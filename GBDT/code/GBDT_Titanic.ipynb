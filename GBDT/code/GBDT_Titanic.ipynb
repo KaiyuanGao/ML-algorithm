{
 "cells": [
  {
   "cell_type": "code",
   "execution_count": 1,
   "metadata": {},
   "outputs": [
    {
     "name": "stderr",
     "output_type": "stream",
     "text": [
      "H:\\anaconda\\Anaconda3\\lib\\site-packages\\sklearn\\cross_validation.py:41: DeprecationWarning: This module was deprecated in version 0.18 in favor of the model_selection module into which all the refactored classes and functions are moved. Also note that the interface of the new CV iterators are different from that of this module. This module will be removed in 0.20.\n",
      "  \"This module will be removed in 0.20.\", DeprecationWarning)\n"
     ]
    }
   ],
   "source": [
    "###import packages\n",
    "import pandas as pd\n",
    "import numpy as np\n",
    "from sklearn.ensemble import GradientBoostingClassifier\n",
    "from sklearn import cross_validation, metrics\n",
    "from sklearn.model_selection import GridSearchCV\n",
    "\n",
    "import matplotlib.pylab as plt\n",
    "%matplotlib inline"
   ]
  },
  {
   "cell_type": "code",
   "execution_count": 2,
   "metadata": {
    "scrolled": true
   },
   "outputs": [
    {
     "data": {
      "text/html": [
       "<div>\n",
       "<style scoped>\n",
       "    .dataframe tbody tr th:only-of-type {\n",
       "        vertical-align: middle;\n",
       "    }\n",
       "\n",
       "    .dataframe tbody tr th {\n",
       "        vertical-align: top;\n",
       "    }\n",
       "\n",
       "    .dataframe thead th {\n",
       "        text-align: right;\n",
       "    }\n",
       "</style>\n",
       "<table border=\"1\" class=\"dataframe\">\n",
       "  <thead>\n",
       "    <tr style=\"text-align: right;\">\n",
       "      <th></th>\n",
       "      <th>PassengerId</th>\n",
       "      <th>Survived</th>\n",
       "      <th>Pclass</th>\n",
       "      <th>Name</th>\n",
       "      <th>Sex</th>\n",
       "      <th>Age</th>\n",
       "      <th>SibSp</th>\n",
       "      <th>Parch</th>\n",
       "      <th>Ticket</th>\n",
       "      <th>Fare</th>\n",
       "      <th>Cabin</th>\n",
       "      <th>Embarked</th>\n",
       "    </tr>\n",
       "  </thead>\n",
       "  <tbody>\n",
       "    <tr>\n",
       "      <th>0</th>\n",
       "      <td>1</td>\n",
       "      <td>0</td>\n",
       "      <td>3</td>\n",
       "      <td>Braund, Mr. Owen Harris</td>\n",
       "      <td>male</td>\n",
       "      <td>22.0</td>\n",
       "      <td>1</td>\n",
       "      <td>0</td>\n",
       "      <td>A/5 21171</td>\n",
       "      <td>7.2500</td>\n",
       "      <td>NaN</td>\n",
       "      <td>S</td>\n",
       "    </tr>\n",
       "    <tr>\n",
       "      <th>1</th>\n",
       "      <td>2</td>\n",
       "      <td>1</td>\n",
       "      <td>1</td>\n",
       "      <td>Cumings, Mrs. John Bradley (Florence Briggs Th...</td>\n",
       "      <td>female</td>\n",
       "      <td>38.0</td>\n",
       "      <td>1</td>\n",
       "      <td>0</td>\n",
       "      <td>PC 17599</td>\n",
       "      <td>71.2833</td>\n",
       "      <td>C85</td>\n",
       "      <td>C</td>\n",
       "    </tr>\n",
       "    <tr>\n",
       "      <th>2</th>\n",
       "      <td>3</td>\n",
       "      <td>1</td>\n",
       "      <td>3</td>\n",
       "      <td>Heikkinen, Miss. Laina</td>\n",
       "      <td>female</td>\n",
       "      <td>26.0</td>\n",
       "      <td>0</td>\n",
       "      <td>0</td>\n",
       "      <td>STON/O2. 3101282</td>\n",
       "      <td>7.9250</td>\n",
       "      <td>NaN</td>\n",
       "      <td>S</td>\n",
       "    </tr>\n",
       "    <tr>\n",
       "      <th>3</th>\n",
       "      <td>4</td>\n",
       "      <td>1</td>\n",
       "      <td>1</td>\n",
       "      <td>Futrelle, Mrs. Jacques Heath (Lily May Peel)</td>\n",
       "      <td>female</td>\n",
       "      <td>35.0</td>\n",
       "      <td>1</td>\n",
       "      <td>0</td>\n",
       "      <td>113803</td>\n",
       "      <td>53.1000</td>\n",
       "      <td>C123</td>\n",
       "      <td>S</td>\n",
       "    </tr>\n",
       "    <tr>\n",
       "      <th>4</th>\n",
       "      <td>5</td>\n",
       "      <td>0</td>\n",
       "      <td>3</td>\n",
       "      <td>Allen, Mr. William Henry</td>\n",
       "      <td>male</td>\n",
       "      <td>35.0</td>\n",
       "      <td>0</td>\n",
       "      <td>0</td>\n",
       "      <td>373450</td>\n",
       "      <td>8.0500</td>\n",
       "      <td>NaN</td>\n",
       "      <td>S</td>\n",
       "    </tr>\n",
       "  </tbody>\n",
       "</table>\n",
       "</div>"
      ],
      "text/plain": [
       "   PassengerId  Survived  Pclass  \\\n",
       "0            1         0       3   \n",
       "1            2         1       1   \n",
       "2            3         1       3   \n",
       "3            4         1       1   \n",
       "4            5         0       3   \n",
       "\n",
       "                                                Name     Sex   Age  SibSp  \\\n",
       "0                            Braund, Mr. Owen Harris    male  22.0      1   \n",
       "1  Cumings, Mrs. John Bradley (Florence Briggs Th...  female  38.0      1   \n",
       "2                             Heikkinen, Miss. Laina  female  26.0      0   \n",
       "3       Futrelle, Mrs. Jacques Heath (Lily May Peel)  female  35.0      1   \n",
       "4                           Allen, Mr. William Henry    male  35.0      0   \n",
       "\n",
       "   Parch            Ticket     Fare Cabin Embarked  \n",
       "0      0         A/5 21171   7.2500   NaN        S  \n",
       "1      0          PC 17599  71.2833   C85        C  \n",
       "2      0  STON/O2. 3101282   7.9250   NaN        S  \n",
       "3      0            113803  53.1000  C123        S  \n",
       "4      0            373450   8.0500   NaN        S  "
      ]
     },
     "execution_count": 2,
     "metadata": {},
     "output_type": "execute_result"
    }
   ],
   "source": [
    "### load data \n",
    "train = pd.read_csv(\"F:/postguaduate/Machine Learning/Titanic/train.csv\")\n",
    "test = pd.read_csv(\"F:/postguaduate/Machine Learning/Titanic/test.csv\")\n",
    "target='Survived' # Disbursed的值就是二元分类的输出\n",
    "IDcol = 'PassengerId'\n",
    "train.head() #查看数据集内容"
   ]
  },
  {
   "cell_type": "code",
   "execution_count": 3,
   "metadata": {},
   "outputs": [
    {
     "name": "stderr",
     "output_type": "stream",
     "text": [
      "H:\\anaconda\\Anaconda3\\lib\\site-packages\\ipykernel_launcher.py:35: SettingWithCopyWarning: \n",
      "A value is trying to be set on a copy of a slice from a DataFrame\n",
      "\n",
      "See the caveats in the documentation: http://pandas.pydata.org/pandas-docs/stable/indexing.html#indexing-view-versus-copy\n",
      "H:\\anaconda\\Anaconda3\\lib\\site-packages\\ipykernel_launcher.py:36: SettingWithCopyWarning: \n",
      "A value is trying to be set on a copy of a slice from a DataFrame\n",
      "\n",
      "See the caveats in the documentation: http://pandas.pydata.org/pandas-docs/stable/indexing.html#indexing-view-versus-copy\n"
     ]
    },
    {
     "data": {
      "text/html": [
       "<div>\n",
       "<style scoped>\n",
       "    .dataframe tbody tr th:only-of-type {\n",
       "        vertical-align: middle;\n",
       "    }\n",
       "\n",
       "    .dataframe tbody tr th {\n",
       "        vertical-align: top;\n",
       "    }\n",
       "\n",
       "    .dataframe thead th {\n",
       "        text-align: right;\n",
       "    }\n",
       "</style>\n",
       "<table border=\"1\" class=\"dataframe\">\n",
       "  <thead>\n",
       "    <tr style=\"text-align: right;\">\n",
       "      <th></th>\n",
       "      <th>Survived</th>\n",
       "      <th>Age</th>\n",
       "      <th>SibSp</th>\n",
       "      <th>Parch</th>\n",
       "      <th>Fare</th>\n",
       "      <th>C</th>\n",
       "      <th>Q</th>\n",
       "      <th>S</th>\n",
       "      <th>Child</th>\n",
       "      <th>Female</th>\n",
       "      <th>Male</th>\n",
       "      <th>Class_1</th>\n",
       "      <th>Class_2</th>\n",
       "      <th>Class_3</th>\n",
       "    </tr>\n",
       "  </thead>\n",
       "  <tbody>\n",
       "    <tr>\n",
       "      <th>0</th>\n",
       "      <td>0</td>\n",
       "      <td>22</td>\n",
       "      <td>1</td>\n",
       "      <td>0</td>\n",
       "      <td>7</td>\n",
       "      <td>0</td>\n",
       "      <td>0</td>\n",
       "      <td>1</td>\n",
       "      <td>0</td>\n",
       "      <td>0</td>\n",
       "      <td>1</td>\n",
       "      <td>0</td>\n",
       "      <td>0</td>\n",
       "      <td>1</td>\n",
       "    </tr>\n",
       "    <tr>\n",
       "      <th>1</th>\n",
       "      <td>1</td>\n",
       "      <td>38</td>\n",
       "      <td>1</td>\n",
       "      <td>0</td>\n",
       "      <td>71</td>\n",
       "      <td>1</td>\n",
       "      <td>0</td>\n",
       "      <td>0</td>\n",
       "      <td>0</td>\n",
       "      <td>1</td>\n",
       "      <td>0</td>\n",
       "      <td>1</td>\n",
       "      <td>0</td>\n",
       "      <td>0</td>\n",
       "    </tr>\n",
       "    <tr>\n",
       "      <th>2</th>\n",
       "      <td>1</td>\n",
       "      <td>26</td>\n",
       "      <td>0</td>\n",
       "      <td>0</td>\n",
       "      <td>7</td>\n",
       "      <td>0</td>\n",
       "      <td>0</td>\n",
       "      <td>1</td>\n",
       "      <td>0</td>\n",
       "      <td>1</td>\n",
       "      <td>0</td>\n",
       "      <td>0</td>\n",
       "      <td>0</td>\n",
       "      <td>1</td>\n",
       "    </tr>\n",
       "    <tr>\n",
       "      <th>3</th>\n",
       "      <td>1</td>\n",
       "      <td>35</td>\n",
       "      <td>1</td>\n",
       "      <td>0</td>\n",
       "      <td>53</td>\n",
       "      <td>0</td>\n",
       "      <td>0</td>\n",
       "      <td>1</td>\n",
       "      <td>0</td>\n",
       "      <td>1</td>\n",
       "      <td>0</td>\n",
       "      <td>1</td>\n",
       "      <td>0</td>\n",
       "      <td>0</td>\n",
       "    </tr>\n",
       "    <tr>\n",
       "      <th>4</th>\n",
       "      <td>0</td>\n",
       "      <td>35</td>\n",
       "      <td>0</td>\n",
       "      <td>0</td>\n",
       "      <td>8</td>\n",
       "      <td>0</td>\n",
       "      <td>0</td>\n",
       "      <td>1</td>\n",
       "      <td>0</td>\n",
       "      <td>0</td>\n",
       "      <td>1</td>\n",
       "      <td>0</td>\n",
       "      <td>0</td>\n",
       "      <td>1</td>\n",
       "    </tr>\n",
       "  </tbody>\n",
       "</table>\n",
       "</div>"
      ],
      "text/plain": [
       "   Survived  Age  SibSp  Parch  Fare  C  Q  S  Child  Female  Male  Class_1  \\\n",
       "0         0   22      1      0     7  0  0  1      0       0     1        0   \n",
       "1         1   38      1      0    71  1  0  0      0       1     0        1   \n",
       "2         1   26      0      0     7  0  0  1      0       1     0        0   \n",
       "3         1   35      1      0    53  0  0  1      0       1     0        1   \n",
       "4         0   35      0      0     8  0  0  1      0       0     1        0   \n",
       "\n",
       "   Class_2  Class_3  \n",
       "0        0        1  \n",
       "1        0        0  \n",
       "2        0        1  \n",
       "3        0        0  \n",
       "4        0        1  "
      ]
     },
     "execution_count": 3,
     "metadata": {},
     "output_type": "execute_result"
    }
   ],
   "source": [
    "###数据预处理\n",
    "\n",
    "###抛弃无关数据\n",
    "train = train.drop(['PassengerId','Name','Ticket','Cabin'],axis=1)\n",
    "test = test.drop(['Name','Ticket','Cabin'], axis=1)\n",
    "train[\"Embarked\"] = train[\"Embarked\"].fillna(\"S\")\n",
    "\n",
    "\n",
    "###Fare\n",
    "train['Fare'] = train['Fare'].astype(int)   #float 2 int\n",
    "test.Fare.fillna(test.Fare.median(), inplace=True)   #插补缺失数据\n",
    "test['Fare'] = test['Fare'].astype(int)\n",
    "\n",
    "\n",
    "###Embarked\n",
    "embark_dummies_train  = pd.get_dummies(train['Embarked'])     # pd.get_dummies()方法对离散数据重新编码，生成0-1矩阵\n",
    "embark_dummies_test  = pd.get_dummies(test['Embarked'])\n",
    "train = train.join(embark_dummies_train)   #合并矩阵\n",
    "test = test.join(embark_dummies_test)\n",
    "train.drop(['Embarked'], axis=1,inplace=True)   #删除原来的Embark列，inplace=Ture\n",
    "test.drop(['Embarked'], axis=1,inplace=True)\n",
    "\n",
    "\n",
    "###Age 主要是对缺失的值进行处理填补\n",
    "average_age_titanic   = train[\"Age\"].mean()\n",
    "std_age_titanic       = train[\"Age\"].std()\n",
    "count_nan_age_titanic = train[\"Age\"].isnull().sum()\n",
    "\n",
    "average_age_test   = test[\"Age\"].mean()\n",
    "std_age_test       = test[\"Age\"].std()\n",
    "count_nan_age_test = test[\"Age\"].isnull().sum()\n",
    "\n",
    "rand_1 = np.random.randint(average_age_titanic - std_age_titanic, average_age_titanic + std_age_titanic, size = count_nan_age_titanic)\n",
    "rand_2 = np.random.randint(average_age_test - std_age_test, average_age_test + std_age_test, size = count_nan_age_test)\n",
    "train[\"Age\"][np.isnan(train[\"Age\"])] = rand_1    \n",
    "test[\"Age\"][np.isnan(test[\"Age\"])] = rand_2\n",
    "train['Age'] = train['Age'].astype(int)\n",
    "test['Age']  = test['Age'].astype(int)\n",
    "\n",
    "\n",
    "###Sex  考虑到小孩及妇女优先对待，分三类\n",
    "def get_person(passenger):\n",
    "    age,sex = passenger\n",
    "    return \"child\" if age < 16 else sex\n",
    "\n",
    "train['Person'] = train[['Age','Sex']].apply(get_person,axis=1)\n",
    "test['Person']  = test[['Age','Sex']].apply(get_person,axis=1)\n",
    "\n",
    "train.drop(['Sex'],axis=1,inplace=True)\n",
    "test.drop(['Sex'],axis=1,inplace=True)\n",
    "\n",
    "person_dummies_titanic  = pd.get_dummies(train['Person'])\n",
    "person_dummies_titanic.columns = ['Child','Female','Male']\n",
    "\n",
    "person_dummies_test  = pd.get_dummies(test['Person'])\n",
    "person_dummies_test.columns = ['Child','Female','Male']\n",
    "\n",
    "train = train.join(person_dummies_titanic)\n",
    "test = test.join(person_dummies_test)\n",
    "train.drop(['Person'],axis=1,inplace=True)\n",
    "test.drop(['Person'],axis=1,inplace=True)\n",
    "\n",
    "\n",
    "###P class\n",
    "pclass_dummies_titanic  = pd.get_dummies(train['Pclass'])\n",
    "pclass_dummies_titanic.columns = ['Class_1','Class_2','Class_3']\n",
    "\n",
    "pclass_dummies_test  = pd.get_dummies(test['Pclass'])\n",
    "pclass_dummies_test.columns = ['Class_1','Class_2','Class_3']\n",
    "\n",
    "train.drop(['Pclass'],axis=1,inplace=True)\n",
    "test.drop(['Pclass'],axis=1,inplace=True)\n",
    "\n",
    "train = train.join(pclass_dummies_titanic)\n",
    "test= test.join(pclass_dummies_test)\n",
    "\n",
    "train.head()"
   ]
  },
  {
   "cell_type": "code",
   "execution_count": 4,
   "metadata": {},
   "outputs": [],
   "source": [
    "###编写一个函数来调用模型\n",
    "def modelfit(alg, dtrain, predictors, performCV=True, printFeatureImportance=True, cv_folds=5):\n",
    "    #Fit the algorithm on the data\n",
    "    alg.fit(dtrain[predictors], dtrain['Survived'])\n",
    "\n",
    "    #Predict training set:\n",
    "    dtrain_predictions = alg.predict(dtrain[predictors])\n",
    "    dtrain_predprob = alg.predict_proba(dtrain[predictors])[:,1]\n",
    "\n",
    "    #Perform cross-validation:\n",
    "    if performCV:\n",
    "        cv_score = cross_validation.cross_val_score(alg, dtrain[predictors], dtrain['Survived'], cv=cv_folds, scoring='roc_auc')\n",
    "\n",
    "    #Print model report:\n",
    "    print (\"\\nModel Report\")\n",
    "    print (\"Accuracy : %.4g\" % metrics.accuracy_score(dtrain['Survived'].values, dtrain_predictions))\n",
    "    print (\"AUC Score (Train): %f\" % metrics.roc_auc_score(dtrain['Survived'], dtrain_predprob))\n",
    "\n",
    "    if performCV:\n",
    "        print (\"CV Score : Mean - %.7g | Std - %.7g | Min - %.7g | Max - %.7g\" % (np.mean(cv_score),np.std(cv_score),np.min(cv_score),np.max(cv_score)))\n",
    "\n",
    "    #Print Feature Importance:\n",
    "    if printFeatureImportance:\n",
    "        feat_imp = pd.Series(alg.feature_importances_, predictors).sort_values(ascending=False)\n",
    "        feat_imp.plot(kind='bar', title='Feature Importances')\n",
    "        plt.ylabel('Feature Importance Score')"
   ]
  },
  {
   "cell_type": "code",
   "execution_count": 5,
   "metadata": {},
   "outputs": [
    {
     "name": "stdout",
     "output_type": "stream",
     "text": [
      "\n",
      "Model Report\n",
      "Accuracy : 0.8967\n",
      "AUC Score (Train): 0.940905\n",
      "CV Score : Mean - 0.86991 | Std - 0.03776578 | Min - 0.809025 | Max - 0.9197922\n"
     ]
    },
    {
     "data": {
      "image/png": "[encoded data removed]",
      "text/plain": [
       "<matplotlib.figure.Figure at 0x5b06a90>"
      ]
     },
     "metadata": {},
     "output_type": "display_data"
    }
   ],
   "source": [
    "###首先创建一个baseline model，不使用任何参数优化\n",
    "predictors = [x for x in train.columns if x not in [target, IDcol]]\n",
    "gbm0 = GradientBoostingClassifier(random_state=10)\n",
    "modelfit(gbm0,train,predictors)"
   ]
  },
  {
   "cell_type": "code",
   "execution_count": 6,
   "metadata": {
    "scrolled": true
   },
   "outputs": [
    {
     "name": "stderr",
     "output_type": "stream",
     "text": [
      "H:\\anaconda\\Anaconda3\\lib\\site-packages\\sklearn\\model_selection\\_search.py:761: DeprecationWarning: The grid_scores_ attribute was deprecated in version 0.18 in favor of the more elaborate cv_results_ attribute. The grid_scores_ attribute will not be available from 0.20\n",
      "  DeprecationWarning)\n"
     ]
    },
    {
     "data": {
      "text/plain": [
       "([mean: 0.85661, std: 0.02378, params: {'learning_rate': 0.1, 'n_estimators': 20},\n",
       "  mean: 0.86181, std: 0.02230, params: {'learning_rate': 0.1, 'n_estimators': 30},\n",
       "  mean: 0.86384, std: 0.02458, params: {'learning_rate': 0.1, 'n_estimators': 40},\n",
       "  mean: 0.86541, std: 0.02591, params: {'learning_rate': 0.1, 'n_estimators': 50},\n",
       "  mean: 0.86761, std: 0.02563, params: {'learning_rate': 0.1, 'n_estimators': 60},\n",
       "  mean: 0.86848, std: 0.02701, params: {'learning_rate': 0.1, 'n_estimators': 70},\n",
       "  mean: 0.86999, std: 0.02591, params: {'learning_rate': 0.1, 'n_estimators': 80},\n",
       "  mean: 0.86960, std: 0.02838, params: {'learning_rate': 0.1, 'n_estimators': 90},\n",
       "  mean: 0.87037, std: 0.02896, params: {'learning_rate': 0.1, 'n_estimators': 100},\n",
       "  mean: 0.85747, std: 0.02243, params: {'learning_rate': 0.12, 'n_estimators': 20},\n",
       "  mean: 0.86251, std: 0.02124, params: {'learning_rate': 0.12, 'n_estimators': 30},\n",
       "  mean: 0.86495, std: 0.02371, params: {'learning_rate': 0.12, 'n_estimators': 40},\n",
       "  mean: 0.86470, std: 0.02462, params: {'learning_rate': 0.12, 'n_estimators': 50},\n",
       "  mean: 0.86821, std: 0.02550, params: {'learning_rate': 0.12, 'n_estimators': 60},\n",
       "  mean: 0.86731, std: 0.02690, params: {'learning_rate': 0.12, 'n_estimators': 70},\n",
       "  mean: 0.86842, std: 0.02795, params: {'learning_rate': 0.12, 'n_estimators': 80},\n",
       "  mean: 0.86859, std: 0.02988, params: {'learning_rate': 0.12, 'n_estimators': 90},\n",
       "  mean: 0.86679, std: 0.02975, params: {'learning_rate': 0.12, 'n_estimators': 100},\n",
       "  mean: 0.85788, std: 0.02300, params: {'learning_rate': 0.14, 'n_estimators': 20},\n",
       "  mean: 0.86458, std: 0.02132, params: {'learning_rate': 0.14, 'n_estimators': 30},\n",
       "  mean: 0.86854, std: 0.02453, params: {'learning_rate': 0.14, 'n_estimators': 40},\n",
       "  mean: 0.86828, std: 0.02554, params: {'learning_rate': 0.14, 'n_estimators': 50},\n",
       "  mean: 0.87043, std: 0.02578, params: {'learning_rate': 0.14, 'n_estimators': 60},\n",
       "  mean: 0.86874, std: 0.02656, params: {'learning_rate': 0.14, 'n_estimators': 70},\n",
       "  mean: 0.86950, std: 0.02789, params: {'learning_rate': 0.14, 'n_estimators': 80},\n",
       "  mean: 0.86875, std: 0.02988, params: {'learning_rate': 0.14, 'n_estimators': 90},\n",
       "  mean: 0.86766, std: 0.03012, params: {'learning_rate': 0.14, 'n_estimators': 100},\n",
       "  mean: 0.86185, std: 0.02258, params: {'learning_rate': 0.16, 'n_estimators': 20},\n",
       "  mean: 0.86669, std: 0.02248, params: {'learning_rate': 0.16, 'n_estimators': 30},\n",
       "  mean: 0.86875, std: 0.02571, params: {'learning_rate': 0.16, 'n_estimators': 40},\n",
       "  mean: 0.86842, std: 0.02671, params: {'learning_rate': 0.16, 'n_estimators': 50},\n",
       "  mean: 0.87051, std: 0.02813, params: {'learning_rate': 0.16, 'n_estimators': 60},\n",
       "  mean: 0.86880, std: 0.02932, params: {'learning_rate': 0.16, 'n_estimators': 70},\n",
       "  mean: 0.86778, std: 0.03079, params: {'learning_rate': 0.16, 'n_estimators': 80},\n",
       "  mean: 0.86959, std: 0.03162, params: {'learning_rate': 0.16, 'n_estimators': 90},\n",
       "  mean: 0.86932, std: 0.03091, params: {'learning_rate': 0.16, 'n_estimators': 100}],\n",
       " {'learning_rate': 0.16, 'n_estimators': 60},\n",
       " 0.8705086044281005)"
      ]
     },
     "execution_count": 6,
     "metadata": {},
     "output_type": "execute_result"
    }
   ],
   "source": [
    "####开始调参\n",
    "predictors = [x for x in train.columns if x not in [target, IDcol]]\n",
    "#首先从长和迭代次数开始进行网格搜索\n",
    "param_test1 = {'n_estimators':range(20,101,10),'learning_rate':[0.1,0.12,0.14,0.16]}\n",
    "gsearch1 = GridSearchCV(estimator = GradientBoostingClassifier(min_samples_split=10,min_samples_leaf=50,max_depth=8,max_features='sqrt',subsample=0.8,random_state=10), \n",
    "param_grid = param_test1, scoring='roc_auc',n_jobs=4,iid=False, cv=5)\n",
    "gsearch1.fit(train[predictors],train[target])\n",
    "gsearch1.grid_scores_, gsearch1.best_params_, gsearch1.best_score_"
   ]
  },
  {
   "cell_type": "code",
   "execution_count": 7,
   "metadata": {},
   "outputs": [
    {
     "name": "stderr",
     "output_type": "stream",
     "text": [
      "H:\\anaconda\\Anaconda3\\lib\\site-packages\\sklearn\\model_selection\\_search.py:761: DeprecationWarning: The grid_scores_ attribute was deprecated in version 0.18 in favor of the more elaborate cv_results_ attribute. The grid_scores_ attribute will not be available from 0.20\n",
      "  DeprecationWarning)\n"
     ]
    },
    {
     "data": {
      "text/plain": [
       "([mean: 0.87179, std: 0.02815, params: {'max_depth': 2, 'min_samples_split': 5},\n",
       "  mean: 0.87021, std: 0.02847, params: {'max_depth': 2, 'min_samples_split': 10},\n",
       "  mean: 0.87003, std: 0.02856, params: {'max_depth': 2, 'min_samples_split': 15},\n",
       "  mean: 0.87050, std: 0.02883, params: {'max_depth': 2, 'min_samples_split': 20},\n",
       "  mean: 0.87060, std: 0.02870, params: {'max_depth': 2, 'min_samples_split': 25},\n",
       "  mean: 0.86982, std: 0.02872, params: {'max_depth': 2, 'min_samples_split': 30},\n",
       "  mean: 0.86536, std: 0.03173, params: {'max_depth': 4, 'min_samples_split': 5},\n",
       "  mean: 0.86874, std: 0.03219, params: {'max_depth': 4, 'min_samples_split': 10},\n",
       "  mean: 0.86370, std: 0.03337, params: {'max_depth': 4, 'min_samples_split': 15},\n",
       "  mean: 0.86496, std: 0.03275, params: {'max_depth': 4, 'min_samples_split': 20},\n",
       "  mean: 0.86809, std: 0.03627, params: {'max_depth': 4, 'min_samples_split': 25},\n",
       "  mean: 0.86639, std: 0.03208, params: {'max_depth': 4, 'min_samples_split': 30},\n",
       "  mean: 0.86279, std: 0.03371, params: {'max_depth': 6, 'min_samples_split': 5},\n",
       "  mean: 0.86783, std: 0.03270, params: {'max_depth': 6, 'min_samples_split': 10},\n",
       "  mean: 0.86793, std: 0.03255, params: {'max_depth': 6, 'min_samples_split': 15},\n",
       "  mean: 0.86542, std: 0.03214, params: {'max_depth': 6, 'min_samples_split': 20},\n",
       "  mean: 0.86465, std: 0.03129, params: {'max_depth': 6, 'min_samples_split': 25},\n",
       "  mean: 0.86687, std: 0.03455, params: {'max_depth': 6, 'min_samples_split': 30},\n",
       "  mean: 0.85327, std: 0.03226, params: {'max_depth': 8, 'min_samples_split': 5},\n",
       "  mean: 0.85075, std: 0.03679, params: {'max_depth': 8, 'min_samples_split': 10},\n",
       "  mean: 0.85953, std: 0.03227, params: {'max_depth': 8, 'min_samples_split': 15},\n",
       "  mean: 0.86018, std: 0.03281, params: {'max_depth': 8, 'min_samples_split': 20},\n",
       "  mean: 0.86101, std: 0.03173, params: {'max_depth': 8, 'min_samples_split': 25},\n",
       "  mean: 0.86958, std: 0.03106, params: {'max_depth': 8, 'min_samples_split': 30},\n",
       "  mean: 0.84697, std: 0.02995, params: {'max_depth': 10, 'min_samples_split': 5},\n",
       "  mean: 0.85103, std: 0.03587, params: {'max_depth': 10, 'min_samples_split': 10},\n",
       "  mean: 0.85251, std: 0.03394, params: {'max_depth': 10, 'min_samples_split': 15},\n",
       "  mean: 0.86257, std: 0.03427, params: {'max_depth': 10, 'min_samples_split': 20},\n",
       "  mean: 0.85485, std: 0.03612, params: {'max_depth': 10, 'min_samples_split': 25},\n",
       "  mean: 0.86160, std: 0.03449, params: {'max_depth': 10, 'min_samples_split': 30},\n",
       "  mean: 0.84109, std: 0.03091, params: {'max_depth': 12, 'min_samples_split': 5},\n",
       "  mean: 0.84984, std: 0.03553, params: {'max_depth': 12, 'min_samples_split': 10},\n",
       "  mean: 0.85483, std: 0.02960, params: {'max_depth': 12, 'min_samples_split': 15},\n",
       "  mean: 0.85662, std: 0.03579, params: {'max_depth': 12, 'min_samples_split': 20},\n",
       "  mean: 0.85619, std: 0.03597, params: {'max_depth': 12, 'min_samples_split': 25},\n",
       "  mean: 0.86038, std: 0.03303, params: {'max_depth': 12, 'min_samples_split': 30},\n",
       "  mean: 0.83941, std: 0.02903, params: {'max_depth': 14, 'min_samples_split': 5},\n",
       "  mean: 0.84356, std: 0.03393, params: {'max_depth': 14, 'min_samples_split': 10},\n",
       "  mean: 0.85364, std: 0.03551, params: {'max_depth': 14, 'min_samples_split': 15},\n",
       "  mean: 0.85469, std: 0.03514, params: {'max_depth': 14, 'min_samples_split': 20},\n",
       "  mean: 0.85624, std: 0.03377, params: {'max_depth': 14, 'min_samples_split': 25},\n",
       "  mean: 0.85836, std: 0.03528, params: {'max_depth': 14, 'min_samples_split': 30}],\n",
       " {'max_depth': 2, 'min_samples_split': 5},\n",
       " 0.8717879402912485)"
      ]
     },
     "execution_count": 7,
     "metadata": {},
     "output_type": "execute_result"
    }
   ],
   "source": [
    "#上述步骤确定了最佳步长0.14，最佳迭代次数90.\n",
    "#接下来对决策树进行调参。ma_depth和min_sampls_split\n",
    "param_test2 = {'max_depth':range(2,16,2), 'min_samples_split':range(5,31,5)}\n",
    "gsearch2 = GridSearchCV(estimator = GradientBoostingClassifier(learning_rate=0.14, n_estimators=90, max_features='sqrt', subsample=0.8, random_state=10), \n",
    "param_grid = param_test2, scoring='roc_auc',n_jobs=4,iid=False, cv=5)\n",
    "gsearch2.fit(train[predictors],train[target])\n",
    "gsearch2.grid_scores_, gsearch2.best_params_, gsearch2.best_score_"
   ]
  },
  {
   "cell_type": "code",
   "execution_count": 8,
   "metadata": {},
   "outputs": [
    {
     "name": "stderr",
     "output_type": "stream",
     "text": [
      "H:\\anaconda\\Anaconda3\\lib\\site-packages\\sklearn\\model_selection\\_search.py:761: DeprecationWarning: The grid_scores_ attribute was deprecated in version 0.18 in favor of the more elaborate cv_results_ attribute. The grid_scores_ attribute will not be available from 0.20\n",
      "  DeprecationWarning)\n"
     ]
    },
    {
     "data": {
      "text/plain": [
       "([mean: 0.86844, std: 0.03208, params: {'min_samples_leaf': 50},\n",
       "  mean: 0.86866, std: 0.02804, params: {'min_samples_leaf': 60},\n",
       "  mean: 0.86874, std: 0.02683, params: {'min_samples_leaf': 70},\n",
       "  mean: 0.86575, std: 0.02786, params: {'min_samples_leaf': 80},\n",
       "  mean: 0.86279, std: 0.02307, params: {'min_samples_leaf': 90},\n",
       "  mean: 0.85936, std: 0.02117, params: {'min_samples_leaf': 100}],\n",
       " {'min_samples_leaf': 70},\n",
       " 0.8687437758945185)"
      ]
     },
     "execution_count": 8,
     "metadata": {},
     "output_type": "execute_result"
    }
   ],
   "source": [
    "#上述步骤确定了最佳'max_depth': 4, 'min_samples_split': 25，深度小可能是由于数据量较小所致\n",
    "#接下来选择叶结点最小样本数\n",
    "param_test3 = { 'min_samples_leaf':range(50,101,10)}\n",
    "gsearch3 = GridSearchCV(estimator = GradientBoostingClassifier(learning_rate=0.14, n_estimators=90,max_depth=4,min_samples_split=25,max_features='sqrt', subsample=0.8, random_state=10), \n",
    "param_grid = param_test3, scoring='roc_auc',n_jobs=4,iid=False, cv=5)\n",
    "gsearch3.fit(train[predictors],train[target])\n",
    "gsearch3.grid_scores_, gsearch3.best_params_, gsearch3.best_score_"
   ]
  },
  {
   "cell_type": "code",
   "execution_count": 9,
   "metadata": {},
   "outputs": [
    {
     "name": "stderr",
     "output_type": "stream",
     "text": [
      "H:\\anaconda\\Anaconda3\\lib\\site-packages\\sklearn\\model_selection\\_search.py:761: DeprecationWarning: The grid_scores_ attribute was deprecated in version 0.18 in favor of the more elaborate cv_results_ attribute. The grid_scores_ attribute will not be available from 0.20\n",
      "  DeprecationWarning)\n"
     ]
    },
    {
     "data": {
      "text/plain": [
       "([mean: 0.85887, std: 0.01715, params: {'max_features': 1},\n",
       "  mean: 0.86782, std: 0.02271, params: {'max_features': 2},\n",
       "  mean: 0.86874, std: 0.02683, params: {'max_features': 3},\n",
       "  mean: 0.87048, std: 0.02448, params: {'max_features': 4},\n",
       "  mean: 0.87080, std: 0.02823, params: {'max_features': 5},\n",
       "  mean: 0.87112, std: 0.02769, params: {'max_features': 6},\n",
       "  mean: 0.86968, std: 0.02929, params: {'max_features': 7},\n",
       "  mean: 0.86987, std: 0.02883, params: {'max_features': 8},\n",
       "  mean: 0.86914, std: 0.02992, params: {'max_features': 9},\n",
       "  mean: 0.87011, std: 0.03205, params: {'max_features': 10},\n",
       "  mean: 0.86792, std: 0.03157, params: {'max_features': 11},\n",
       "  mean: 0.86881, std: 0.03282, params: {'max_features': 12},\n",
       "  mean: 0.87013, std: 0.03174, params: {'max_features': 13}],\n",
       " {'max_features': 6},\n",
       " 0.8711241269543317)"
      ]
     },
     "execution_count": 9,
     "metadata": {},
     "output_type": "execute_result"
    }
   ],
   "source": [
    "#上述步骤确定'min_samples_leaf': 70\n",
    "#接下来选择最大特征数\n",
    "param_test4 = {'max_features':range(1,14,1)}\n",
    "gsearch4 = GridSearchCV(estimator = GradientBoostingClassifier(learning_rate=0.14, n_estimators=90,max_depth=4,min_samples_leaf=70, min_samples_split=25,  subsample=0.8, random_state=10),\n",
    "param_grid = param_test4, scoring='roc_auc',n_jobs=4,iid=False, cv=5)\n",
    "gsearch4.fit(train[predictors],train[target])\n",
    "gsearch4.grid_scores_, gsearch4.best_params_, gsearch4.best_score_"
   ]
  },
  {
   "cell_type": "code",
   "execution_count": 10,
   "metadata": {
    "scrolled": true
   },
   "outputs": [
    {
     "name": "stderr",
     "output_type": "stream",
     "text": [
      "H:\\anaconda\\Anaconda3\\lib\\site-packages\\sklearn\\model_selection\\_search.py:761: DeprecationWarning: The grid_scores_ attribute was deprecated in version 0.18 in favor of the more elaborate cv_results_ attribute. The grid_scores_ attribute will not be available from 0.20\n",
      "  DeprecationWarning)\n"
     ]
    },
    {
     "data": {
      "text/plain": [
       "([mean: 0.86334, std: 0.02122, params: {'subsample': 0.6},\n",
       "  mean: 0.86717, std: 0.02505, params: {'subsample': 0.7},\n",
       "  mean: 0.86841, std: 0.02286, params: {'subsample': 0.75},\n",
       "  mean: 0.86874, std: 0.02683, params: {'subsample': 0.8},\n",
       "  mean: 0.86924, std: 0.02561, params: {'subsample': 0.85},\n",
       "  mean: 0.87143, std: 0.02639, params: {'subsample': 0.9}],\n",
       " {'subsample': 0.9},\n",
       " 0.8714302128727619)"
      ]
     },
     "execution_count": 10,
     "metadata": {},
     "output_type": "execute_result"
    }
   ],
   "source": [
    "#上述步骤中最大特征数为3 感觉不符合实际，所以还是选择默认情况\n",
    "param_test5 = {'subsample':[0.6,0.7,0.75,0.8,0.85,0.9]}\n",
    "gsearch5 = GridSearchCV(estimator = GradientBoostingClassifier(learning_rate=0.14, n_estimators=90,max_depth=4,min_samples_split=25, min_samples_leaf=70, random_state=10,max_features=\"sqrt\"),\n",
    "param_grid = param_test5, scoring='roc_auc',n_jobs=4,iid=False, cv=5)\n",
    "gsearch5.fit(train[predictors],train[target])\n",
    "gsearch5.grid_scores_, gsearch5.best_params_, gsearch5.best_score_"
   ]
  },
  {
   "cell_type": "code",
   "execution_count": 11,
   "metadata": {},
   "outputs": [],
   "source": [
    "Y_pred = gsearch5.predict(test.drop('PassengerId',axis=1))"
   ]
  },
  {
   "cell_type": "code",
   "execution_count": 12,
   "metadata": {},
   "outputs": [
    {
     "name": "stdout",
     "output_type": "stream",
     "text": [
      "\n",
      "Model Report\n",
      "Accuracy : 0.8496\n",
      "AUC Score (Train): 0.902476\n",
      "CV Score : Mean - 0.8679868 | Std - 0.02722333 | Min - 0.8225955 | Max - 0.9077847\n"
     ]
    },
    {
     "data": {
      "image/png": "[encoded data removed]",
      "text/plain": [
       "<matplotlib.figure.Figure at 0xb2bd588>"
      ]
     },
     "metadata": {},
     "output_type": "display_data"
    }
   ],
   "source": [
    "predictors = [x for x in train.columns if x not in [target, IDcol]]\n",
    "gbm_tuned_1 = GradientBoostingClassifier(learning_rate=0.07, n_estimators=180,max_depth=4, min_samples_split=25,min_samples_leaf=70, subsample=0.8, random_state=10, max_features=\"sqrt\")\n",
    "modelfit(gbm_tuned_1, train, predictors)"
   ]
  },
  {
   "cell_type": "code",
   "execution_count": 13,
   "metadata": {
    "scrolled": true
   },
   "outputs": [
    {
     "name": "stdout",
     "output_type": "stream",
     "text": [
      "\n",
      "Model Report\n",
      "Accuracy : 0.8552\n",
      "AUC Score (Train): 0.906582\n",
      "CV Score : Mean - 0.8730606 | Std - 0.02956442 | Min - 0.827141 | Max - 0.9181732\n"
     ]
    },
    {
     "data": {
      "image/png": "[encoded data removed]",
      "text/plain": [
       "<matplotlib.figure.Figure at 0xb2bd2b0>"
      ]
     },
     "metadata": {},
     "output_type": "display_data"
    }
   ],
   "source": [
    "predictors = [x for x in train.columns if x not in [target, IDcol]]\n",
    "gbm_tuned_1 = GradientBoostingClassifier(learning_rate=0.07, n_estimators=140,max_depth=3, min_samples_split=10,min_samples_leaf=30, subsample=0.85, random_state=10, max_features=\"sqrt\")\n",
    "modelfit(gbm_tuned_1, train, predictors)"
   ]
  },
  {
   "cell_type": "code",
   "execution_count": 14,
   "metadata": {},
   "outputs": [],
   "source": [
    "my_submission =pd.DataFrame({'PassengerId': test['PassengerId'].as_matrix(),'Survived': Y_pred.astype(np.int32)})\n",
    "my_submission.to_csv(\"F:/postguaduate/Machine Learning/Titanic/my_submission2.csv\",index=False)"
   ]
  },
  {
   "cell_type": "code",
   "execution_count": 15,
   "metadata": {},
   "outputs": [],
   "source": [
    "#这里看一下不做优化的预测情况，以作对比\n",
    "Y_pred = gbm0.predict(test.drop('PassengerId',axis=1))\n",
    "\n",
    "my_submission =pd.DataFrame({'PassengerId': test['PassengerId'].as_matrix(),'Survived': Y_pred.astype(np.int32)})\n",
    "my_submission.to_csv(\"F:/postguaduate/Machine Learning/Titanic/my_submission2.csv\",index=False)"
   ]
  },
  {
   "cell_type": "code",
   "execution_count": null,
   "metadata": {},
   "outputs": [],
   "source": []
  }
 ],
 "metadata": {
  "kernelspec": {
   "display_name": "Python 3",
   "language": "python",
   "name": "python3"
  },
  "language_info": {
   "codemirror_mode": {
    "name": "ipython",
    "version": 3
   },
   "file_extension": ".py",
   "mimetype": "text/x-python",
   "name": "python",
   "nbconvert_exporter": "python",
   "pygments_lexer": "ipython3",
   "version": "3.6.4"
  }
 },
 "nbformat": 4,
 "nbformat_minor": 2
}
